{
 "cells": [
  {
   "cell_type": "markdown",
   "id": "6f754882",
   "metadata": {},
   "source": [
    "# Example multiprocess data processing  \n",
    "Thai word tokenize (wongnai corpus)\n",
    "\n",
    "---\n",
    "**By Pranpaveen Lay.**"
   ]
  },
  {
   "cell_type": "markdown",
   "id": "802bee05",
   "metadata": {},
   "source": [
    "## Download data"
   ]
  },
  {
   "cell_type": "code",
   "execution_count": 1,
   "id": "e05714a9",
   "metadata": {},
   "outputs": [
    {
     "name": "stdout",
     "output_type": "stream",
     "text": [
      "--2022-04-04 15:08:35--  https://github.com/wongnai/wongnai-corpus/raw/master/review/review_dataset.zip\n",
      "Resolving github.com (github.com)... 20.205.243.166\n",
      "Connecting to github.com (github.com)|20.205.243.166|:443... connected.\n",
      "HTTP request sent, awaiting response... 302 Found\n",
      "Location: https://raw.githubusercontent.com/wongnai/wongnai-corpus/master/review/review_dataset.zip [following]\n",
      "--2022-04-04 15:08:35--  https://raw.githubusercontent.com/wongnai/wongnai-corpus/master/review/review_dataset.zip\n",
      "Resolving raw.githubusercontent.com (raw.githubusercontent.com)... 185.199.108.133, 185.199.109.133, 185.199.110.133, ...\n",
      "Connecting to raw.githubusercontent.com (raw.githubusercontent.com)|185.199.108.133|:443... connected.\n",
      "HTTP request sent, awaiting response... 200 OK\n",
      "Length: 14338706 (14M) [application/zip]\n",
      "Saving to: ‘review_dataset.zip’\n",
      "\n",
      "review_dataset.zip  100%[===================>]  13.67M  25.7MB/s    in 0.5s    \n",
      "\n",
      "2022-04-04 15:08:37 (25.7 MB/s) - ‘review_dataset.zip’ saved [14338706/14338706]\n",
      "\n"
     ]
    }
   ],
   "source": [
    "!wget https://github.com/wongnai/wongnai-corpus/raw/master/review/review_dataset.zip"
   ]
  },
  {
   "cell_type": "code",
   "execution_count": 3,
   "id": "b7997894",
   "metadata": {},
   "outputs": [],
   "source": [
    "!unzip -q review_dataset.zip -d data"
   ]
  },
  {
   "cell_type": "markdown",
   "id": "5ffe0435",
   "metadata": {},
   "source": [
    "## Read data"
   ]
  },
  {
   "cell_type": "code",
   "execution_count": 1,
   "id": "f602b141",
   "metadata": {},
   "outputs": [],
   "source": [
    "import pandas as pd"
   ]
  },
  {
   "cell_type": "code",
   "execution_count": 2,
   "id": "da4edc89",
   "metadata": {},
   "outputs": [
    {
     "data": {
      "text/html": [
       "<div>\n",
       "<style scoped>\n",
       "    .dataframe tbody tr th:only-of-type {\n",
       "        vertical-align: middle;\n",
       "    }\n",
       "\n",
       "    .dataframe tbody tr th {\n",
       "        vertical-align: top;\n",
       "    }\n",
       "\n",
       "    .dataframe thead th {\n",
       "        text-align: right;\n",
       "    }\n",
       "</style>\n",
       "<table border=\"1\" class=\"dataframe\">\n",
       "  <thead>\n",
       "    <tr style=\"text-align: right;\">\n",
       "      <th></th>\n",
       "      <th>text</th>\n",
       "    </tr>\n",
       "  </thead>\n",
       "  <tbody>\n",
       "    <tr>\n",
       "      <th>0</th>\n",
       "      <td>ร้านอาหารใหญ่มากกกกกกก \\nเลี้ยวเข้ามาเจอห้องน้...</td>\n",
       "    </tr>\n",
       "    <tr>\n",
       "      <th>1</th>\n",
       "      <td>อาหารที่นี่เป็นอาหารจีนแคะที่หากินยากในบ้านเรา...</td>\n",
       "    </tr>\n",
       "    <tr>\n",
       "      <th>2</th>\n",
       "      <td>ปอเปี๊ยะสด ทุกวันนี้รู้สึกว่าหากินยาก (ร้านที่...</td>\n",
       "    </tr>\n",
       "    <tr>\n",
       "      <th>3</th>\n",
       "      <td>รัานคัพเค้กในเมืองไทยมีไม่มาก หลายๆคนอาจจะสงสั...</td>\n",
       "    </tr>\n",
       "    <tr>\n",
       "      <th>4</th>\n",
       "      <td>อร่อย!!! เดินผ่านDigital gatewayทุกวัน ไม่ยักร...</td>\n",
       "    </tr>\n",
       "    <tr>\n",
       "      <th>5</th>\n",
       "      <td>ร้านข้าวต้มกระดูกหมู ปากซอยพัฒนาการ 57 เป็นอีก...</td>\n",
       "    </tr>\n",
       "    <tr>\n",
       "      <th>6</th>\n",
       "      <td>วันนี้ได้มีโอกาสไปนั่งซดกาแฟที่ร้านวาวี แถวๆอา...</td>\n",
       "    </tr>\n",
       "    <tr>\n",
       "      <th>7</th>\n",
       "      <td>สารภาพว่าไม่เคยคิดจะไปต่อคิวซื้อมากินเองครับ บ...</td>\n",
       "    </tr>\n",
       "    <tr>\n",
       "      <th>8</th>\n",
       "      <td>เมื่อวันก่อนไปเดินเล่น แบบชิวๆๆ ที่สยามสแควร์แ...</td>\n",
       "    </tr>\n",
       "    <tr>\n",
       "      <th>9</th>\n",
       "      <td>วันก่อนไปเดินสยาม หลังจากห่างหายไป ประมาณ 6 เด...</td>\n",
       "    </tr>\n",
       "  </tbody>\n",
       "</table>\n",
       "</div>"
      ],
      "text/plain": [
       "                                                text\n",
       "0  ร้านอาหารใหญ่มากกกกกกก \\nเลี้ยวเข้ามาเจอห้องน้...\n",
       "1  อาหารที่นี่เป็นอาหารจีนแคะที่หากินยากในบ้านเรา...\n",
       "2  ปอเปี๊ยะสด ทุกวันนี้รู้สึกว่าหากินยาก (ร้านที่...\n",
       "3  รัานคัพเค้กในเมืองไทยมีไม่มาก หลายๆคนอาจจะสงสั...\n",
       "4  อร่อย!!! เดินผ่านDigital gatewayทุกวัน ไม่ยักร...\n",
       "5  ร้านข้าวต้มกระดูกหมู ปากซอยพัฒนาการ 57 เป็นอีก...\n",
       "6  วันนี้ได้มีโอกาสไปนั่งซดกาแฟที่ร้านวาวี แถวๆอา...\n",
       "7  สารภาพว่าไม่เคยคิดจะไปต่อคิวซื้อมากินเองครับ บ...\n",
       "8  เมื่อวันก่อนไปเดินเล่น แบบชิวๆๆ ที่สยามสแควร์แ...\n",
       "9  วันก่อนไปเดินสยาม หลังจากห่างหายไป ประมาณ 6 เด..."
      ]
     },
     "execution_count": 2,
     "metadata": {},
     "output_type": "execute_result"
    }
   ],
   "source": [
    "df = pd.read_csv('data/w_review_train.csv',header=None,names=['text'])\n",
    "df.head(10)"
   ]
  },
  {
   "cell_type": "code",
   "execution_count": 3,
   "id": "0a300bdd",
   "metadata": {},
   "outputs": [
    {
     "data": {
      "text/html": [
       "<div>\n",
       "<style scoped>\n",
       "    .dataframe tbody tr th:only-of-type {\n",
       "        vertical-align: middle;\n",
       "    }\n",
       "\n",
       "    .dataframe tbody tr th {\n",
       "        vertical-align: top;\n",
       "    }\n",
       "\n",
       "    .dataframe thead th {\n",
       "        text-align: right;\n",
       "    }\n",
       "</style>\n",
       "<table border=\"1\" class=\"dataframe\">\n",
       "  <thead>\n",
       "    <tr style=\"text-align: right;\">\n",
       "      <th></th>\n",
       "      <th>text</th>\n",
       "    </tr>\n",
       "  </thead>\n",
       "  <tbody>\n",
       "    <tr>\n",
       "      <th>0</th>\n",
       "      <td>ร้านอาหารใหญ่มากกกกกกก \\nเลี้ยวเข้ามาเจอห้องน้...</td>\n",
       "    </tr>\n",
       "    <tr>\n",
       "      <th>1</th>\n",
       "      <td>อาหารที่นี่เป็นอาหารจีนแคะที่หากินยากในบ้านเรา...</td>\n",
       "    </tr>\n",
       "    <tr>\n",
       "      <th>2</th>\n",
       "      <td>ปอเปี๊ยะสด ทุกวันนี้รู้สึกว่าหากินยาก (ร้านที่...</td>\n",
       "    </tr>\n",
       "    <tr>\n",
       "      <th>3</th>\n",
       "      <td>รัานคัพเค้กในเมืองไทยมีไม่มาก หลายๆคนอาจจะสงสั...</td>\n",
       "    </tr>\n",
       "    <tr>\n",
       "      <th>4</th>\n",
       "      <td>อร่อย!!! เดินผ่านDigital gatewayทุกวัน ไม่ยักร...</td>\n",
       "    </tr>\n",
       "    <tr>\n",
       "      <th>...</th>\n",
       "      <td>...</td>\n",
       "    </tr>\n",
       "    <tr>\n",
       "      <th>39995</th>\n",
       "      <td>รู้จักร้านนี้จากวงใน ร้านอยู่ในอาคารพาณิชย์ตรง...</td>\n",
       "    </tr>\n",
       "    <tr>\n",
       "      <th>39996</th>\n",
       "      <td>ร้านซูชิอาหารญี่ปุ่น อยู่ตรงสะพานลอย เกษตรประต...</td>\n",
       "    </tr>\n",
       "    <tr>\n",
       "      <th>39997</th>\n",
       "      <td>\"Cantina Wine Bar &amp; Italian Kitchen\" ร้านเล็กๆ...</td>\n",
       "    </tr>\n",
       "    <tr>\n",
       "      <th>39998</th>\n",
       "      <td>ร้านเค้กน่ารักๆ ตรงชั้นล่างของห้างเซ็นทรัลลาดพ...</td>\n",
       "    </tr>\n",
       "    <tr>\n",
       "      <th>39999</th>\n",
       "      <td>วันนี้มากินกันไกลถึงแม่สอดจังหวัดตากติดกับชายแ...</td>\n",
       "    </tr>\n",
       "  </tbody>\n",
       "</table>\n",
       "<p>40000 rows × 1 columns</p>\n",
       "</div>"
      ],
      "text/plain": [
       "                                                    text\n",
       "0      ร้านอาหารใหญ่มากกกกกกก \\nเลี้ยวเข้ามาเจอห้องน้...\n",
       "1      อาหารที่นี่เป็นอาหารจีนแคะที่หากินยากในบ้านเรา...\n",
       "2      ปอเปี๊ยะสด ทุกวันนี้รู้สึกว่าหากินยาก (ร้านที่...\n",
       "3      รัานคัพเค้กในเมืองไทยมีไม่มาก หลายๆคนอาจจะสงสั...\n",
       "4      อร่อย!!! เดินผ่านDigital gatewayทุกวัน ไม่ยักร...\n",
       "...                                                  ...\n",
       "39995  รู้จักร้านนี้จากวงใน ร้านอยู่ในอาคารพาณิชย์ตรง...\n",
       "39996  ร้านซูชิอาหารญี่ปุ่น อยู่ตรงสะพานลอย เกษตรประต...\n",
       "39997  \"Cantina Wine Bar & Italian Kitchen\" ร้านเล็กๆ...\n",
       "39998  ร้านเค้กน่ารักๆ ตรงชั้นล่างของห้างเซ็นทรัลลาดพ...\n",
       "39999  วันนี้มากินกันไกลถึงแม่สอดจังหวัดตากติดกับชายแ...\n",
       "\n",
       "[40000 rows x 1 columns]"
      ]
     },
     "execution_count": 3,
     "metadata": {},
     "output_type": "execute_result"
    }
   ],
   "source": [
    "df"
   ]
  },
  {
   "cell_type": "markdown",
   "id": "67cc621b",
   "metadata": {},
   "source": [
    "## Tokenize with pandas map"
   ]
  },
  {
   "cell_type": "code",
   "execution_count": 4,
   "id": "42856680",
   "metadata": {},
   "outputs": [],
   "source": [
    "from pythainlp.tokenize import word_tokenize"
   ]
  },
  {
   "cell_type": "code",
   "execution_count": 5,
   "id": "5a9ccfce",
   "metadata": {},
   "outputs": [
    {
     "name": "stdout",
     "output_type": "stream",
     "text": [
      "CPU times: user 32.9 s, sys: 207 ms, total: 33.1 s\n",
      "Wall time: 33.1 s\n"
     ]
    }
   ],
   "source": [
    "%%time\n",
    "tok1 = df['text'].map(lambda x : word_tokenize(x, engine=\"newmm\"))"
   ]
  },
  {
   "cell_type": "code",
   "execution_count": 6,
   "id": "99198227",
   "metadata": {},
   "outputs": [
    {
     "data": {
      "text/plain": [
       "0    [ร้านอาหาร, ใหญ่, มาก, กก, กก, กก,  , \\n, เลี้...\n",
       "1    [อาหาร, ที่นี่, เป็น, อาหารจีน, แคะ, ที่, หากิ...\n",
       "2    [ปอเปี๊ยะ, สด,  , ทุกวันนี้, รู้สึก, ว่า, หากิ...\n",
       "3    [รัาน, คัพ, เค้ก, ใน, เมือง, ไทย, มี, ไม่, มาก...\n",
       "4    [อร่อย, !!!,  , เดินผ่าน, Digital,  , gateway,...\n",
       "5    [ร้าน, ข้าวต้ม, กระดูก, หมู,  , ปากซอย, พัฒนาก...\n",
       "6    [วันนี้, ได้, มีโอกาส, ไป, นั่ง, ซด, กาแฟ, ที่...\n",
       "7    [สารภาพ, ว่า, ไม่, เคย, คิด, จะ, ไป, ต่อ, คิว,...\n",
       "8    [เมื่อวันก่อน, ไป, เดินเล่น,  , แบบ, ชิวๆ, ๆ, ...\n",
       "9    [วันก่อน, ไป, เดิน, สยาม,  , หลังจาก, ห่างหาย,...\n",
       "Name: text, dtype: object"
      ]
     },
     "execution_count": 6,
     "metadata": {},
     "output_type": "execute_result"
    }
   ],
   "source": [
    "tok1[:10]"
   ]
  },
  {
   "cell_type": "markdown",
   "id": "eb934a65",
   "metadata": {},
   "source": [
    "## Tokenize with multiprocess"
   ]
  },
  {
   "cell_type": "code",
   "execution_count": 7,
   "id": "c0b2b779",
   "metadata": {},
   "outputs": [],
   "source": [
    "import multiprocessing as mp\n",
    "from functools import partial\n",
    "import time"
   ]
  },
  {
   "cell_type": "code",
   "execution_count": 8,
   "id": "8486964e",
   "metadata": {},
   "outputs": [],
   "source": [
    "n_process = 8\n",
    "pool = mp.Pool(processes=n_process)"
   ]
  },
  {
   "cell_type": "code",
   "execution_count": 9,
   "id": "0ae835c4",
   "metadata": {},
   "outputs": [
    {
     "name": "stdout",
     "output_type": "stream",
     "text": [
      "CPU times: user 1.26 s, sys: 392 ms, total: 1.65 s\n",
      "Wall time: 7.69 s\n"
     ]
    }
   ],
   "source": [
    "%%time\n",
    "tok2 = pool.map( partial(word_tokenize, engine=\"newmm\") , df['text'].values)"
   ]
  },
  {
   "cell_type": "code",
   "execution_count": 10,
   "id": "12992a07",
   "metadata": {},
   "outputs": [
    {
     "data": {
      "text/plain": [
       "0    [ร้านอาหาร, ใหญ่, มาก, กก, กก, กก,  , \\n, เลี้...\n",
       "1    [อาหาร, ที่นี่, เป็น, อาหารจีน, แคะ, ที่, หากิ...\n",
       "2    [ปอเปี๊ยะ, สด,  , ทุกวันนี้, รู้สึก, ว่า, หากิ...\n",
       "3    [รัาน, คัพ, เค้ก, ใน, เมือง, ไทย, มี, ไม่, มาก...\n",
       "4    [อร่อย, !!!,  , เดินผ่าน, Digital,  , gateway,...\n",
       "5    [ร้าน, ข้าวต้ม, กระดูก, หมู,  , ปากซอย, พัฒนาก...\n",
       "6    [วันนี้, ได้, มีโอกาส, ไป, นั่ง, ซด, กาแฟ, ที่...\n",
       "7    [สารภาพ, ว่า, ไม่, เคย, คิด, จะ, ไป, ต่อ, คิว,...\n",
       "8    [เมื่อวันก่อน, ไป, เดินเล่น,  , แบบ, ชิวๆ, ๆ, ...\n",
       "9    [วันก่อน, ไป, เดิน, สยาม,  , หลังจาก, ห่างหาย,...\n",
       "dtype: object"
      ]
     },
     "execution_count": 10,
     "metadata": {},
     "output_type": "execute_result"
    }
   ],
   "source": [
    "pd.Series(tok2)[:10]"
   ]
  },
  {
   "cell_type": "markdown",
   "id": "13dcb490",
   "metadata": {},
   "source": [
    "## Pandas parallel tools (not work ?)"
   ]
  },
  {
   "cell_type": "code",
   "execution_count": 18,
   "id": "a126b5a5",
   "metadata": {},
   "outputs": [],
   "source": [
    "# import swifter"
   ]
  },
  {
   "cell_type": "code",
   "execution_count": 19,
   "id": "cecff60b",
   "metadata": {},
   "outputs": [],
   "source": [
    "# %%time\n",
    "# tok3 = df.swifter.apply(lambda x : word_tokenize(x['text'], engine=\"newmm\"),1,)"
   ]
  },
  {
   "cell_type": "code",
   "execution_count": 20,
   "id": "eecbebd1",
   "metadata": {},
   "outputs": [],
   "source": [
    "# from pandarallel import pandarallel"
   ]
  },
  {
   "cell_type": "code",
   "execution_count": 21,
   "id": "0e452948",
   "metadata": {},
   "outputs": [],
   "source": [
    "# pandarallel.initialize()"
   ]
  },
  {
   "cell_type": "code",
   "execution_count": 22,
   "id": "d9781f88",
   "metadata": {},
   "outputs": [],
   "source": [
    "# %%time\n",
    "# tok3 = df.parallel_apply(lambda x : word_tokenize(x['text'], engine=\"newmm\"),1)"
   ]
  },
  {
   "cell_type": "code",
   "execution_count": null,
   "id": "dd524f76",
   "metadata": {},
   "outputs": [],
   "source": []
  }
 ],
 "metadata": {
  "kernelspec": {
   "display_name": "Python 3 (ipykernel)",
   "language": "python",
   "name": "python3"
  },
  "language_info": {
   "codemirror_mode": {
    "name": "ipython",
    "version": 3
   },
   "file_extension": ".py",
   "mimetype": "text/x-python",
   "name": "python",
   "nbconvert_exporter": "python",
   "pygments_lexer": "ipython3",
   "version": "3.9.7"
  }
 },
 "nbformat": 4,
 "nbformat_minor": 5
}
